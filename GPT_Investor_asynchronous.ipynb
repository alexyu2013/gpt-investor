{
  "cells": [
    {
      "cell_type": "code",
      "execution_count": 2,
      "metadata": {},
      "outputs": [],
      "source": [
        "from dataclasses import dataclass, field\n",
        "from typing import List, Dict, Optional\n",
        "import pandas as pd\n",
        "import asyncio\n",
        "import requests\n",
        "from bs4 import BeautifulSoup\n",
        "from datetime import datetime, timedelta\n",
        "\n",
        "from openai import OpenAI, AsyncOpenAI\n",
        "from dotenv import load_dotenv\n",
        "import yfinance as yf"
      ]
    },
    {
      "cell_type": "code",
      "execution_count": 3,
      "metadata": {
        "id": "50ZEVdt53Xkr"
      },
      "outputs": [],
      "source": [
        "load_dotenv(\"env_variables.env\")\n",
        "syncclient = OpenAI()\n",
        "asyncclient = AsyncOpenAI()"
      ]
    },
    {
      "cell_type": "code",
      "execution_count": 4,
      "metadata": {},
      "outputs": [],
      "source": [
        "@dataclass\n",
        "class TickerClass:\n",
        "    name: str\n",
        "    hist_data: Optional[pd.DataFrame] = field(default=None)\n",
        "    balance_sheet: Optional[pd.DataFrame] = field(default=None)\n",
        "    financials: Optional[pd.DataFrame] = field(default=None)\n",
        "    news: Optional[Dict] = field(default=None)\n",
        "    analyst_ratings: str = field(default=None)\n",
        "    price: float = field(default=None)\n",
        "    ######\n",
        "    sentiment_analysis: str = field(default=None)\n",
        "    industry_analysis: str = field(default=None)\n",
        "    final_analysis: str = field(default=None)"
      ]
    },
    {
      "cell_type": "code",
      "execution_count": 40,
      "metadata": {},
      "outputs": [],
      "source": [
        "def get_article_text(url: str) -> str:\n",
        "    try:\n",
        "        response = requests.get(url)\n",
        "        soup = BeautifulSoup(response.content, 'html.parser')\n",
        "        article_text = ' '.join([p.get_text() for p in soup.find_all('p')])\n",
        "        return article_text\n",
        "    except:\n",
        "        return \"Error retrieving article text.\"\n",
        "\n",
        "def get_stock_data(ticker: str, years: int=10) -> tuple:\n",
        "    end_date = datetime.now().date()\n",
        "    start_date = end_date - timedelta(days=years*365)\n",
        "\n",
        "    stock = yf.Ticker(ticker)\n",
        "\n",
        "    # Retrieve historical price data\n",
        "    hist_data = stock.history(start=start_date, end=end_date)\n",
        "\n",
        "    # Retrieve balance sheet\n",
        "    balance_sheet = stock.balance_sheet\n",
        "\n",
        "    # Retrieve financial statements\n",
        "    financials = stock.financials\n",
        "\n",
        "    # Retrieve news articles\n",
        "    news = stock.news\n",
        "\n",
        "    return hist_data, balance_sheet, financials, news\n",
        "\n",
        "def get_analyst_ratings(ticker: str) -> str:\n",
        "    stock = yf.Ticker(ticker)\n",
        "    recommendations = stock.get_recommendations()\n",
        "    if recommendations is None or recommendations.empty:\n",
        "        return \"No analyst ratings available.\"\n",
        "\n",
        "    latest_rating = recommendations.iloc[0]\n",
        "\n",
        "\n",
        "    rating_summary = f\"Latest analyst rating for {ticker}:\\n {str(latest_rating.to_dict())}\"\n",
        "\n",
        "    return rating_summary\n",
        "\n",
        "def get_current_price(ticker :str) -> float:\n",
        "    stock = yf.Ticker(ticker)\n",
        "    data = stock.history(period='1d')\n",
        "    return data.iloc[0]['Close']"
      ]
    },
    {
      "cell_type": "code",
      "execution_count": null,
      "metadata": {},
      "outputs": [],
      "source": []
    },
    {
      "cell_type": "code",
      "execution_count": 6,
      "metadata": {
        "id": "tg78Hup6xona"
      },
      "outputs": [],
      "source": [
        "async def get_sentiment_analysis(ticker: TickerClass) -> None:\n",
        "    print(f\"analyzing sentiment for {ticker.name}\")\n",
        "\n",
        "    news_text = \"\"\n",
        "    for article in ticker.news:\n",
        "        article_text = get_article_text(article['link'])\n",
        "        timestamp = datetime.fromtimestamp(article['providerPublishTime']).strftime(\"%Y-%m-%d\")\n",
        "        news_text += f\"\\n\\n---\\n\\nDate: {timestamp}\\nTitle: {article['title']}\\nText: {article_text}\"\n",
        "\n",
        "    messages = [\n",
        "        {\n",
        "            \"role\": \"system\",\n",
        "            \"content\": f\"You are a sentiment analysis assistant. Analyze the sentiment of the given news articles for {ticker.name} and provide a summary of the overall sentiment and any notable changes over time. Be measured and discerning. You are a skeptical investor.\"\n",
        "        },\n",
        "        {\n",
        "            \"role\": \"user\", \n",
        "            \"content\": f\"News articles for {ticker.name}:\\n{news_text}\\n\\n----\\n\\nProvide a summary of the overall sentiment and any notable changes over time.\"},\n",
        "    ]\n",
        "\n",
        "    \n",
        "    response = await asyncclient.chat.completions.create(\n",
        "        temperature = 0.1,\n",
        "        model=\"gpt-4-1106-preview\",\n",
        "        messages=messages\n",
        "    )\n",
        "    \n",
        "    ticker.sentiment_analysis = response.choices[0].message.content\n",
        "\n",
        "\n",
        "\n",
        "\n",
        "async def get_industry_analysis(ticker: TickerClass) -> None:\n",
        "    print(f\"Industry analysis for {ticker.name}\")\n",
        "    stock = yf.Ticker(ticker.name)\n",
        "    industry = stock.info['industry']\n",
        "    sector = stock.info['sector']\n",
        "\n",
        "\n",
        "    messages = [\n",
        "        {\n",
        "            \"role\": \"system\",\n",
        "            \"content\": f\"You are an industry analysis assistant. Provide an analysis of the {industry} industry and {sector} sector, including trends, growth prospects, regulatory changes, and competitive landscape. Be measured and discerning. Truly think about the positives and negatives of the stock. Be sure of your analysis. You are a skeptical investor.\"\n",
        "        },\n",
        "        {\n",
        "            \"role\": \"user\", \n",
        "            \"content\": f\"Provide an analysis of the {industry} industry and {sector} sector.\"}\n",
        "    ]\n",
        "\n",
        "    \n",
        "    response = await asyncclient.chat.completions.create(\n",
        "        temperature = 0.1,\n",
        "        model=\"gpt-4-1106-preview\",\n",
        "        messages=messages\n",
        "    )\n",
        "    \n",
        "    ticker.industry_analysis = response.choices[0].message.content\n",
        "\n",
        "#def get_final_analysis(ticker: str, sentiment_analysis: str, analyst_ratings :str, industry_analysis: str) -> str:\n",
        "async def get_final_analysis(ticker: TickerClass) -> None:\n",
        "    print(f\"Final analysis for {ticker.name}\")\n",
        "    messages = [\n",
        "        {\n",
        "            \"role\": \"system\",\n",
        "            \"content\": f\"You are a financial analyst providing a final investment recommendation for {ticker.name} based on the given data and analyses. Be measured and discerning. Truly think about the positives and negatives of the stock. Be sure of your analysis. You are a skeptical investor.\"\n",
        "        },\n",
        "        {\n",
        "            \"role\": \"user\", \n",
        "            \"content\": f\"Ticker: {ticker.name}\\n\\nSentiment Analysis:\\n{ticker.sentiment_analysis}\\n\\nLatest Analyst Ratings:\\n{ticker.analyst_ratings}\\n\\nIndustry Analysis:\\n{ticker.industry_analysis}\\n\\nBased on the provided data and analyses, please provide a comprehensive investment analysis and recommendation for {ticker.name}. Consider the company's financial strength, growth prospects, competitive position, and potential risks. Provide a clear and concise recommendation on whether to buy, hold, or sell the stock, along with supporting rationale.\"}\n",
        "    ]\n",
        "\n",
        "    \n",
        "    response = await asyncclient.chat.completions.create(\n",
        "        temperature = 0.1,\n",
        "        model=\"gpt-4-1106-preview\",\n",
        "        messages=messages\n",
        "    )\n",
        "    \n",
        "    ticker.final_analysis = response.choices[0].message.content\n",
        "\n",
        "\n",
        "\n",
        "\n",
        "def rank_companies(ticker_info_list: List[TickerClass], industry: str) -> str:\n",
        "    print(f\"Ranking ...\")\n",
        "    analysis_text = \"\\n\\n\".join(f\"Ticker: {ticker.name}\\nCurrent Price: {ticker.price}\\nAnslysis:\\n{ticker.final_analysis}\" for ticker in ticker_info_list)\n",
        "    analysis_text = analysis_text\n",
        "\n",
        "\n",
        "    messages = [\n",
        "        {\n",
        "            \"role\": \"system\",\n",
        "            \"content\": f\"You are a financial analyst providing a ranking of companies in the {industry} industry based on their investment potential. Be discerning and sharp. Truly think about whether a stock is valuable or not. You are a skeptical investor.\"\n",
        "        },\n",
        "        {\n",
        "            \"role\": \"user\", \n",
        "            \"content\": f\"Industry: {industry}\\n\\nCompany Analyses:\\n{analysis_text}\\n\\nBased on the provided analyses, please rank the companies from most attractive to least attractive for investment. Provide a brief rationale for your ranking. In each rationale, include the current price (if available) and a price target.\"},\n",
        "    ]\n",
        "\n",
        "    \n",
        "    response = syncclient.chat.completions.create(\n",
        "        temperature = 0.1,\n",
        "        model=\"gpt-4-1106-preview\",\n",
        "        messages=messages\n",
        "    )\n",
        "    \n",
        "    return response.choices[0].message.content\n"
      ]
    },
    {
      "cell_type": "code",
      "execution_count": null,
      "metadata": {},
      "outputs": [],
      "source": []
    },
    {
      "cell_type": "code",
      "execution_count": 7,
      "metadata": {},
      "outputs": [],
      "source": [
        "async def get_openai_verdict_2(tickers, industry):\n",
        "    ticker_info_list = []\n",
        "    for ticker in tickers:\n",
        "        temp_ticker_info = TickerClass(name = ticker)\n",
        "        temp_ticker_info.hist_data, temp_ticker_info.balance_sheet, temp_ticker_info.financials, temp_ticker_info.news = get_stock_data(ticker, years=1)\n",
        "\n",
        "        temp_ticker_info.analyst_ratings = get_analyst_ratings(ticker)\n",
        "        temp_ticker_info.price = get_current_price(ticker)\n",
        "        ticker_info_list.append(temp_ticker_info)\n",
        "\n",
        "    tasks1 = [get_sentiment_analysis(ticker_object) for ticker_object in ticker_info_list]\n",
        "    await asyncio.gather(*tasks1)\n",
        "\n",
        "    tasks2 = [get_industry_analysis(ticker_object) for ticker_object in ticker_info_list]\n",
        "    await asyncio.gather(*tasks2)\n",
        "\n",
        "    tasks3 = [get_final_analysis(ticker_object) for ticker_object in ticker_info_list]\n",
        "    await asyncio.gather(*tasks3)\n",
        "\n",
        "    final_ranking = rank_companies(ticker_info_list, industry)\n",
        "    return final_ranking\n",
        "    "
      ]
    },
    {
      "cell_type": "code",
      "execution_count": 8,
      "metadata": {},
      "outputs": [
        {
          "name": "stderr",
          "output_type": "stream",
          "text": [
            "/tmp/ipykernel_11505/909651735.py:46: FutureWarning: Series.__getitem__ treating keys as positions is deprecated. In a future version, integer keys will always be treated as labels (consistent with DataFrame behavior). To access a value by position, use `ser.iloc[pos]`\n",
            "  return data['Close'][-1]\n",
            "/tmp/ipykernel_11505/909651735.py:46: FutureWarning: Series.__getitem__ treating keys as positions is deprecated. In a future version, integer keys will always be treated as labels (consistent with DataFrame behavior). To access a value by position, use `ser.iloc[pos]`\n",
            "  return data['Close'][-1]\n"
          ]
        },
        {
          "name": "stdout",
          "output_type": "stream",
          "text": [
            "analyzing sentiment for AAPL\n",
            "analyzing sentiment for MSFT\n",
            "Industry analysis for AAPL\n",
            "Industry analysis for MSFT\n",
            "Final analysis for AAPL\n",
            "Final analysis for MSFT\n",
            "Ranking ...\n"
          ]
        }
      ],
      "source": [
        "tickers = ['AAPL', 'MSFT']\n",
        "final_rankings = await get_openai_verdict_2(tickers=tickers, industry=\"tech\")"
      ]
    },
    {
      "cell_type": "code",
      "execution_count": 9,
      "metadata": {},
      "outputs": [
        {
          "name": "stdout",
          "output_type": "stream",
          "text": [
            "Given the information provided and the analyses of Apple Inc. (AAPL) and Microsoft Corporation (MSFT), I would rank the investment attractiveness as follows:\n",
            "\n",
            "1. **Microsoft Corporation (MSFT)**\n",
            "2. **Apple Inc. (AAPL)**\n",
            "\n",
            "**Rationale for Ranking:**\n",
            "\n",
            "**1. Microsoft Corporation (MSFT) - Most Attractive**\n",
            "- **Current Price:** $420.03\n",
            "- **Price Target:** Not provided, but a long-term growth perspective is suggested.\n",
            "\n",
            "Microsoft's position as a leader in the Software - Infrastructure industry, combined with its strategic investments in AI and cloud computing, positions it for significant growth potential. The company's diversified product portfolio and high switching costs create a strong competitive moat. The sentiment analysis is cautiously positive, and the analyst ratings are strongly in favor of a buy, indicating confidence in the company's future performance. Given the tech industry's rapid growth, particularly in cloud services and AI, Microsoft's strategic positioning could lead to substantial gains over time. The lack of a specific price target in the analysis makes it challenging to gauge the expected return, but the overall positive outlook suggests that Microsoft has a higher investment potential relative to Apple.\n",
            "\n",
            "**2. Apple Inc. (AAPL) - Attractive**\n",
            "- **Current Price:** $171.52\n",
            "- **Price Target:** Not provided, but a buy recommendation is made.\n",
            "\n",
            "Apple's strong financials, brand loyalty, and innovative track record make it an attractive investment. The company's ecosystem and services segment offer a competitive advantage and a source of recurring revenue. However, Apple faces significant risks from supply chain disruptions, regulatory scrutiny, and the need for continuous innovation. While the analyst ratings are positive, the tech hardware industry is subject to rapid changes and intense competition, which could impact Apple's growth prospects. Without a specific price target, it's difficult to assess the potential upside, but Apple's established market position and financial strength support its investment attractiveness, albeit with a more cautious outlook compared to Microsoft.\n",
            "\n",
            "**Conclusion:**\n",
            "Both companies are leaders in their respective fields with strong financials and positive analyst sentiment. However, Microsoft's strategic positioning in AI and cloud computing, areas with substantial growth potential, gives it an edge over Apple, which operates in the more mature and competitive consumer electronics market. As a skeptical investor, it's important to consider the potential for innovation, market trends, and competitive dynamics when assessing these companies. The lack of specific price targets requires investors to conduct further analysis to determine their own expected returns based on their investment theses and risk tolerance.\n"
          ]
        }
      ],
      "source": [
        "print(final_rankings)"
      ]
    },
    {
      "cell_type": "code",
      "execution_count": null,
      "metadata": {},
      "outputs": [],
      "source": []
    },
    {
      "cell_type": "code",
      "execution_count": null,
      "metadata": {},
      "outputs": [],
      "source": []
    },
    {
      "cell_type": "code",
      "execution_count": null,
      "metadata": {},
      "outputs": [],
      "source": []
    }
  ],
  "metadata": {
    "colab": {
      "authorship_tag": "ABX9TyPuI82WtCRP7mS26mCp9B+j",
      "include_colab_link": true,
      "provenance": []
    },
    "kernelspec": {
      "display_name": "Python 3",
      "name": "python3"
    },
    "language_info": {
      "codemirror_mode": {
        "name": "ipython",
        "version": 3
      },
      "file_extension": ".py",
      "mimetype": "text/x-python",
      "name": "python",
      "nbconvert_exporter": "python",
      "pygments_lexer": "ipython3",
      "version": "3.10.14"
    }
  },
  "nbformat": 4,
  "nbformat_minor": 0
}
