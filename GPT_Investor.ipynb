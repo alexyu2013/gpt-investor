{
  "cells": [
    {
      "cell_type": "code",
      "execution_count": 159,
      "metadata": {},
      "outputs": [],
      "source": [
        "from openai import OpenAI\n",
        "from dotenv import load_dotenv"
      ]
    },
    {
      "cell_type": "code",
      "execution_count": 160,
      "metadata": {
        "id": "50ZEVdt53Xkr"
      },
      "outputs": [],
      "source": [
        "#OPENAI_API_KEY = \"YOUR_API_KEY\"  # Replace with your Anthropic API key\n",
        "load_dotenv(\"env_variables.env\")\n",
        "client = OpenAI()"
      ]
    },
    {
      "cell_type": "code",
      "execution_count": 161,
      "metadata": {},
      "outputs": [],
      "source": [
        "from pydantic import BaseModel\n",
        "from typing import List\n",
        "\n",
        "class TickerList(BaseModel):\n",
        "    tickers_list: List[str]"
      ]
    },
    {
      "cell_type": "code",
      "execution_count": 162,
      "metadata": {},
      "outputs": [],
      "source": [
        "import yfinance as yf\n",
        "from datetime import datetime, timedelta\n",
        "import requests\n",
        "from bs4 import BeautifulSoup\n",
        "import ast\n",
        "import json\n",
        "\n",
        "\n",
        "def get_article_text(url):\n",
        "    try:\n",
        "        response = requests.get(url)\n",
        "        soup = BeautifulSoup(response.content, 'html.parser')\n",
        "        article_text = ' '.join([p.get_text() for p in soup.find_all('p')])\n",
        "        return article_text\n",
        "    except:\n",
        "        return \"Error retrieving article text.\"\n",
        "\n",
        "def get_stock_data(ticker, years):\n",
        "    end_date = datetime.now().date()\n",
        "    start_date = end_date - timedelta(days=years*365)\n",
        "\n",
        "    stock = yf.Ticker(ticker)\n",
        "\n",
        "    # Retrieve historical price data\n",
        "    hist_data = stock.history(start=start_date, end=end_date)\n",
        "\n",
        "    # Retrieve balance sheet\n",
        "    balance_sheet = stock.balance_sheet\n",
        "\n",
        "    # Retrieve financial statements\n",
        "    financials = stock.financials\n",
        "\n",
        "    # Retrieve news articles\n",
        "    news = stock.news\n",
        "\n",
        "    return hist_data, balance_sheet, financials, news"
      ]
    },
    {
      "cell_type": "code",
      "execution_count": null,
      "metadata": {},
      "outputs": [],
      "source": []
    },
    {
      "cell_type": "code",
      "execution_count": 167,
      "metadata": {
        "id": "tg78Hup6xona"
      },
      "outputs": [],
      "source": [
        "def generate_ticker_ideas(industry):\n",
        "    \n",
        "    messages = [\n",
        "        {\n",
        "            \"role\": \"system\",\n",
        "            \"content\": f\"You are a financial analyst assistant. Generate a list of 3 ticker symbols for major companies in the {industry} industry, as a Python-parseable list.\"\n",
        "        },\n",
        "        {\n",
        "            \"role\": \"user\", \"content\": f\"Please provide a list of 3 ticker symbols for major companies in the {industry} industry as a Python-parseable list. Only respond with the list, no other text.\"},\n",
        "    ]\n",
        "\n",
        "    response = client.chat.completions.create(\n",
        "        temperature = 0.1,\n",
        "        model=\"gpt-3.5-turbo-0125\",\n",
        "        messages=messages,\n",
        "        functions=[\n",
        "            {\n",
        "            \"name\": \"Stock_Ticker_Generator\",\n",
        "            \"description\": \"Generate a list of 3 ticker symbols for major companies\",\n",
        "            \"parameters\": TickerList.model_json_schema()\n",
        "            }\n",
        "        ],\n",
        "        function_call={\"name\": \"Stock_Ticker_Generator\"}\n",
        "    )\n",
        "\n",
        "\n",
        "    return json.loads(response.choices[0].message.function_call.arguments)['tickers_list']\n",
        "\n",
        "def get_sentiment_analysis(ticker, news):\n",
        "\n",
        "    news_text = \"\"\n",
        "    for article in news:\n",
        "        article_text = get_article_text(article['link'])\n",
        "        timestamp = datetime.fromtimestamp(article['providerPublishTime']).strftime(\"%Y-%m-%d\")\n",
        "        news_text += f\"\\n\\n---\\n\\nDate: {timestamp}\\nTitle: {article['title']}\\nText: {article_text}\"\n",
        "\n",
        "    messages = [\n",
        "        {\n",
        "            \"role\": \"system\",\n",
        "            \"content\": f\"You are a sentiment analysis assistant. Analyze the sentiment of the given news articles for {ticker} and provide a summary of the overall sentiment and any notable changes over time. Be measured and discerning. You are a skeptical investor.\"\n",
        "        },\n",
        "        {\n",
        "            \"role\": \"user\", \n",
        "            \"content\": f\"News articles for {ticker}:\\n{news_text}\\n\\n----\\n\\nProvide a summary of the overall sentiment and any notable changes over time.\"},\n",
        "    ]\n",
        "\n",
        "    \n",
        "    response = client.chat.completions.create(\n",
        "        temperature = 0.1,\n",
        "        model=\"gpt-3.5-turbo-0125\",\n",
        "        messages=messages\n",
        "    )\n",
        "    \n",
        "    return response\n",
        "\n",
        "def get_analyst_ratings(ticker):\n",
        "    stock = yf.Ticker(ticker)\n",
        "    recommendations = stock.get_recommendations()\n",
        "    if recommendations is None or recommendations.empty:\n",
        "        return \"No analyst ratings available.\"\n",
        "\n",
        "    latest_rating = recommendations.iloc[0]\n",
        "\n",
        "    #firm = latest_rating.get('Firm', 'N/A')\n",
        "    #to_grade = latest_rating.get('To Grade', 'N/A')\n",
        "    #action = latest_rating.get('Action', 'N/A')\n",
        "\n",
        "    rating_summary = f\"Latest analyst rating for {ticker}:\\n {str(latest_rating.to_dict())}\"\n",
        "\n",
        "    return rating_summary\n",
        "\n",
        "\n",
        "def get_industry_analysis(ticker):\n",
        "\n",
        "    stock = yf.Ticker(ticker)\n",
        "    industry = stock.info['industry']\n",
        "    sector = stock.info['sector']\n",
        "\n",
        "\n",
        "    messages = [\n",
        "        {\n",
        "            \"role\": \"system\",\n",
        "            \"content\": f\"You are an industry analysis assistant. Provide an analysis of the {industry} industry and {sector} sector, including trends, growth prospects, regulatory changes, and competitive landscape. Be measured and discerning. Truly think about the positives and negatives of the stock. Be sure of your analysis. You are a skeptical investor.\"\n",
        "        },\n",
        "        {\n",
        "            \"role\": \"user\", \n",
        "            \"content\": f\"Provide an analysis of the {industry} industry and {sector} sector.\"}\n",
        "    ]\n",
        "\n",
        "    \n",
        "    response = client.chat.completions.create(\n",
        "        temperature = 0.1,\n",
        "        model=\"gpt-3.5-turbo-0125\",\n",
        "        messages=messages\n",
        "    )\n",
        "    \n",
        "    return response.choices[0].message.content\n",
        "\n",
        "def get_final_analysis(ticker, sentiment_analysis, analyst_ratings, industry_analysis):\n",
        "\n",
        "\n",
        "    messages = [\n",
        "        {\n",
        "            \"role\": \"system\",\n",
        "            \"content\": f\"You are a financial analyst providing a final investment recommendation for {ticker} based on the given data and analyses. Be measured and discerning. Truly think about the positives and negatives of the stock. Be sure of your analysis. You are a skeptical investor.\"\n",
        "        },\n",
        "        {\n",
        "            \"role\": \"user\", \n",
        "            \"content\": f\"Ticker: {ticker}\\n\\nSentiment Analysis:\\n{sentiment_analysis}\\n\\nAnalyst Ratings:\\n{analyst_ratings}\\n\\nIndustry Analysis:\\n{industry_analysis}\\n\\nBased on the provided data and analyses, please provide a comprehensive investment analysis and recommendation for {ticker}. Consider the company's financial strength, growth prospects, competitive position, and potential risks. Provide a clear and concise recommendation on whether to buy, hold, or sell the stock, along with supporting rationale.\"}\n",
        "    ]\n",
        "\n",
        "    \n",
        "    response = client.chat.completions.create(\n",
        "        temperature = 0.1,\n",
        "        model=\"gpt-3.5-turbo-0125\",\n",
        "        messages=messages\n",
        "    )\n",
        "    \n",
        "    return response.choices[0].message.content\n",
        "\n",
        "def get_current_price(ticker):\n",
        "    stock = yf.Ticker(ticker)\n",
        "    data = stock.history(period='1d', interval='1m')\n",
        "    return data['Close'][-1]\n",
        "\n",
        "\n",
        "def rank_companies(industry, analyses, prices):\n",
        "\n",
        "    analysis_text = \"\\n\\n\".join(\n",
        "        f\"Ticker: {ticker}\\nCurrent Price: {prices.get(ticker, 'N/A')}\\nAnalysis:\\n{analysis}\"\n",
        "        for ticker, analysis in analyses.items()\n",
        "    )\n",
        "\n",
        "\n",
        "    messages = [\n",
        "        {\n",
        "            \"role\": \"system\",\n",
        "            \"content\": f\"You are a financial analyst providing a ranking of companies in the {industry} industry based on their investment potential. Be discerning and sharp. Truly think about whether a stock is valuable or not. You are a skeptical investor.\"\n",
        "        },\n",
        "        {\n",
        "            \"role\": \"user\", \n",
        "            \"content\": f\"Industry: {industry}\\n\\nCompany Analyses:\\n{analysis_text}\\n\\nBased on the provided analyses, please rank the companies from most attractive to least attractive for investment. Provide a brief rationale for your ranking. In each rationale, include the current price (if available) and a price target.\"},\n",
        "    ]\n",
        "\n",
        "    \n",
        "    response = client.chat.completions.create(\n",
        "        temperature = 0.1,\n",
        "        model=\"gpt-3.5-turbo-0125\",\n",
        "        messages=messages\n",
        "    )\n",
        "    \n",
        "    return response.choices[0].message.content\n"
      ]
    },
    {
      "cell_type": "code",
      "execution_count": null,
      "metadata": {},
      "outputs": [],
      "source": []
    },
    {
      "cell_type": "code",
      "execution_count": 173,
      "metadata": {},
      "outputs": [],
      "source": [
        "tickers = ['AAPL', 'MSFT', 'IBM']"
      ]
    },
    {
      "cell_type": "code",
      "execution_count": 186,
      "metadata": {},
      "outputs": [
        {
          "name": "stdout",
          "output_type": "stream",
          "text": [
            "\n",
            "Analyzing AAPL...\n"
          ]
        },
        {
          "name": "stderr",
          "output_type": "stream",
          "text": [
            "/var/folders/rh/ph2mmqtx2l73bcykh7_f84zw0000gn/T/ipykernel_10734/828306575.py:124: FutureWarning: Series.__getitem__ treating keys as positions is deprecated. In a future version, integer keys will always be treated as labels (consistent with DataFrame behavior). To access a value by position, use `ser.iloc[pos]`\n",
            "  return data['Close'][-1]\n"
          ]
        },
        {
          "name": "stdout",
          "output_type": "stream",
          "text": [
            "\n",
            "Analyzing MSFT...\n"
          ]
        },
        {
          "name": "stderr",
          "output_type": "stream",
          "text": [
            "/var/folders/rh/ph2mmqtx2l73bcykh7_f84zw0000gn/T/ipykernel_10734/828306575.py:124: FutureWarning: Series.__getitem__ treating keys as positions is deprecated. In a future version, integer keys will always be treated as labels (consistent with DataFrame behavior). To access a value by position, use `ser.iloc[pos]`\n",
            "  return data['Close'][-1]\n"
          ]
        },
        {
          "name": "stdout",
          "output_type": "stream",
          "text": [
            "\n",
            "Analyzing IBM...\n"
          ]
        },
        {
          "name": "stderr",
          "output_type": "stream",
          "text": [
            "/var/folders/rh/ph2mmqtx2l73bcykh7_f84zw0000gn/T/ipykernel_10734/828306575.py:124: FutureWarning: Series.__getitem__ treating keys as positions is deprecated. In a future version, integer keys will always be treated as labels (consistent with DataFrame behavior). To access a value by position, use `ser.iloc[pos]`\n",
            "  return data['Close'][-1]\n"
          ]
        }
      ],
      "source": [
        "analyses = {}\n",
        "prices = {}\n",
        "for ticker in tickers:\n",
        "    try:\n",
        "        print(f\"\\nAnalyzing {ticker}...\")\n",
        "        hist_data, balance_sheet, financials, news = get_stock_data(ticker, years)\n",
        "        main_data = {\n",
        "            'hist_data': hist_data,\n",
        "            'balance_sheet': balance_sheet,\n",
        "            'financials': financials,\n",
        "            'news': news\n",
        "        }\n",
        "        sentiment_analysis = get_sentiment_analysis(ticker, news)\n",
        "        analyst_ratings = get_analyst_ratings(ticker)\n",
        "        industry_analysis = get_industry_analysis(ticker)\n",
        "        final_analysis = get_final_analysis(ticker, sentiment_analysis, analyst_ratings, industry_analysis)\n",
        "        analyses[ticker] = final_analysis\n",
        "        prices[ticker] = get_current_price(ticker)\n",
        "    except:\n",
        "        pass"
      ]
    },
    {
      "cell_type": "code",
      "execution_count": 188,
      "metadata": {},
      "outputs": [
        {
          "name": "stdout",
          "output_type": "stream",
          "text": [
            "\n",
            "Ranking of Companies in the tech Industry:\n"
          ]
        }
      ],
      "source": [
        "industry = \"tech\"\n",
        "ranking = rank_companies(industry, analyses, prices)\n",
        "print(f\"\\nRanking of Companies in the {industry} Industry:\")"
      ]
    },
    {
      "cell_type": "code",
      "execution_count": 191,
      "metadata": {},
      "outputs": [
        {
          "name": "stdout",
          "output_type": "stream",
          "text": [
            "Ranking of Companies in the Tech Industry for Investment:\n",
            "\n",
            "1. **Microsoft (MSFT)**\n",
            "   - **Current Price:** $420.03\n",
            "   - **Rationale:** Microsoft stands out as the most attractive investment option due to its strong position in the cloud market, strategic partnerships in emerging technologies, and positive analyst sentiment. With a current price of $420.03, Microsoft's price target could be set at $450, reflecting its growth potential in the cloud computing sector and innovation-driven approach.\n",
            "\n",
            "2. **Apple (AAPL)**\n",
            "   - **Current Price:** $171.52\n",
            "   - **Rationale:** Apple follows closely behind Microsoft in attractiveness for investment, supported by positive sentiment, analyst ratings, and industry trends. With a current price of $171.52, Apple's price target could be set at $190, considering its brand strength, innovation history, and growth prospects in new product launches and AI partnerships.\n",
            "\n",
            "3. **IBM**\n",
            "   - **Current Price:** $190.91\n",
            "   - **Rationale:** IBM ranks third in attractiveness for investment, driven by its positive stock performance and focus on AI adoption. However, concerns around job displacement, competition, and regulatory challenges pose risks. With a current price of $190.91, IBM's price target could be set at $200, reflecting cautious optimism towards its growth potential in AI adoption and industry growth trends.\n",
            "\n",
            "**Rationale for Ranking:**\n",
            "Microsoft secures the top spot due to its robust position in the cloud market and strategic partnerships, offering strong growth prospects. Apple follows closely behind with its positive outlook and brand strength. IBM, while showing promise in AI adoption, faces more significant challenges that warrant a more cautious approach to investment. The rankings are based on a balance of growth potential, competitive positioning, and risk factors present in each company.\n"
          ]
        }
      ],
      "source": [
        "print(ranking)"
      ]
    },
    {
      "cell_type": "code",
      "execution_count": null,
      "metadata": {},
      "outputs": [],
      "source": []
    }
  ],
  "metadata": {
    "colab": {
      "authorship_tag": "ABX9TyPuI82WtCRP7mS26mCp9B+j",
      "include_colab_link": true,
      "provenance": []
    },
    "kernelspec": {
      "display_name": "Python 3",
      "name": "python3"
    },
    "language_info": {
      "codemirror_mode": {
        "name": "ipython",
        "version": 3
      },
      "file_extension": ".py",
      "mimetype": "text/x-python",
      "name": "python",
      "nbconvert_exporter": "python",
      "pygments_lexer": "ipython3",
      "version": "3.10.14"
    }
  },
  "nbformat": 4,
  "nbformat_minor": 0
}
